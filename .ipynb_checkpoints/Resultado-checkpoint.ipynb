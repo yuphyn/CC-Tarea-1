{
 "cells": [
  {
   "cell_type": "markdown",
   "metadata": {},
   "source": [
    "<img src=\"escudo_utfsm.gif\" style=\"float:right;height:100px\">\n",
    "<img src=\"IsotipoDIisocolor.png\" style=\"float:left;height:100px\">\n",
    "<center>\n",
    "    <h1> ILI285 - Computación Científica I / INF285 - Computación Científica</h1>\n",
    "    <h1> Tarea 1: Remember your roots </h1>\n",
    "    <h2> César Quiroz</h2>\n",
    "    <h2> cesar.quirozm@sansano.usm.cl</h2>\n",
    "    <h2> 201573578-6 </h2>\n",
    "</center>\n"
   ]
  },
  {
   "cell_type": "code",
   "execution_count": 1,
   "metadata": {},
   "outputs": [],
   "source": [
    "### Librerias\n",
    "\n",
    "import numpy as np\n",
    "import matplotlib.pyplot as plt\n",
    "%matplotlib inline\n",
    "from ipywidgets import interact\n",
    "import ipywidgets as widgets"
   ]
  },
  {
   "cell_type": "markdown",
   "metadata": {},
   "source": [
    "## Pregunta 1\n",
    "\n",
    "### 1.1 Método de la Bisección \n",
    "+ La función debe ser continua.\n",
    "+ Se requiere trabajar dentro de un intervalo en el recorrido de la función para este problrma se usara [-1000,1000].\n",
    "+ Se calcula la función f(x) en los extremos y la mitad del intervalo.\n",
    "+ Se escoge el intervalo que pase por el cero y los estremos se ese intervalo pasan a ser los extremos\n",
    "+ se repite el proceso n veces hasta llegar a la raiz aproximada.\n",
    "+ La función f a utilizar es:\n",
    "\n",
    "\\begin{equation*}\n",
    " f(y_{i+1}) =  \\dfrac{x_{i+1}-x_i}{2}\\left(y_{i+1}\\cos{(x_{i+1}+y_{i+1})}+y_i\\cos{(x_i+y_i)}\\right)+ y_i - y_{i+1} = 0\n",
    "\\end{equation*}\n",
    "\n",
    "Con los siguientes valores para la primera iteración \n",
    "\n",
    "$i\\in\\{0,1,\\dots,M\\}$, $x_{i+1}=100\\frac{i}{M}$ , $x_i =0$ y $y_i=1$."
   ]
  },
  {
   "cell_type": "code",
   "execution_count": 21,
   "metadata": {},
   "outputs": [],
   "source": [
    "def f(x_zero,y_zero,x_one,y_one): # costo 111\n",
    "    part_one = (x_one - x_zero)/2 #2\n",
    "    part_two = y_one*np.cos(x_one+y_one)+y_zero*np.cos(x_zero+y_zero) #105\n",
    "    part_three = y_one-y_zero #2\n",
    "    return(part_one*part_two-part_three) #2"
   ]
  },
  {
   "cell_type": "markdown",
   "metadata": {},
   "source": [
    "### 1.2 Método de iteración de punto fijo\n",
    "+ se utiliza para encontrar valores de g(x) donde se cumple que:\n",
    "\n",
    "$g(x)=x$, la función g a utilizar es:\n",
    "\n",
    "\n",
    "\\begin{equation*}\n",
    " g(y_{i+1}) =  \\dfrac{x_{i+1}-x_i}{2}\\left(y_{i+1}\\cos{(x_{i+1}+y_{i+1})}+y_i\\cos{(x_i+y_i)}\\right)+ y_i =  y_{i+1}\n",
    "\\end{equation*}\n",
    "\n",
    "Con los siguientes valores para la primera iteración \n",
    "\n",
    "$i\\in\\{0,1,\\dots,M\\}$, $x_{i+1}=100\\frac{i}{M}$ , $x_i =0$ y $y_i=1$.\n",
    "\n",
    "Y el $x_{initialguess} = 1$ "
   ]
  },
  {
   "cell_type": "code",
   "execution_count": 3,
   "metadata": {},
   "outputs": [],
   "source": [
    "def g(x_zero,y_zero,x_one,y_one): #costo 109\n",
    "    part_one = (x_one - x_zero)/2 #2\n",
    "    part_two = y_one*np.cos(x_one+y_one)+y_zero*np.cos(x_zero+y_zero) #105\n",
    "    return(part_one*part_two+y_zero) #2"
   ]
  },
  {
   "cell_type": "markdown",
   "metadata": {},
   "source": [
    "### 1.3 Método de Newton\n",
    "\n",
    "\\begin{equation*}\n",
    "x_{i+1}=x_{i}\\cdot \\frac{f(x_{i})}{f'(x_{i})}\n",
    "\\end{equation*}\n",
    "\n",
    "Las funciones a utilizar son las siguintes:\n",
    "\n",
    "\\begin{equation*}\n",
    "f(x_i) =f(y_{i+1}) =  \\dfrac{x_{i+1}-x_i}{2}\\left(y_{i+1}\\cos{(x_{i+1}+y_{i+1})}+y_i\\cos{(x_i+y_i)}\\right)+ y_i - y_{i+1}\n",
    "\\end{equation*}\n",
    "\n",
    "\n",
    "\\begin{equation*}\n",
    "f´(x_i) =f´(y_{i+1}) =  \\dfrac{x_{i+1}-x_i}{2}\\left(\\cos{(x_{i+1}+y_{i+1})}-y_{i+1}\\sin{(x_{i+1}+y_{i+1})}\\right) -1\n",
    "\\end{equation*}\n",
    "\n",
    "Con los siguientes valores para la primera iteración \n",
    "\n",
    "$i\\in\\{0,1,\\dots,M\\}$, $x_{i+1}=100\\frac{i}{M}$ , $x_i=0$ y $y_i=1\n",
    "\n",
    "\n",
    "Y el $x_{initialguess} = 0$ "
   ]
  },
  {
   "cell_type": "code",
   "execution_count": 4,
   "metadata": {},
   "outputs": [],
   "source": [
    "def fd(x_zero,y_zero,x_one,y_one): #costo 108\n",
    "    part_one = (x_one - x_zero)/2 #2\n",
    "    part_two = np.cos(x_one+y_one)-(y_one*np.sin(x_one+y_one)) #104\n",
    "    return((part_one*part_two)-1) #2\n",
    "    "
   ]
  },
  {
   "cell_type": "markdown",
   "metadata": {},
   "source": [
    "## Pregunta 2\n",
    "\n",
    "### 2.1 Implementación método bisección"
   ]
  },
  {
   "cell_type": "code",
   "execution_count": 40,
   "metadata": {},
   "outputs": [],
   "source": [
    "def bisect(f, a, b, tol,x_0,y_0,x_1):\n",
    "    fa = f(x_zero=x_0,y_zero=y_0,x_one=x_1,y_one=a) #111\n",
    "    fb = f(x_zero=x_0,y_zero=y_0,x_one=x_1,y_one=b) #111\n",
    "    i = 0\n",
    "    # Just checking if the sign is not negative => not root  necessarily \n",
    "    if np.sign(fa*fb) >= 0: #1\n",
    "        print('f(a)f(b)<0 not satisfied!')\n",
    "        return None  \n",
    "    contar=0\n",
    "    #costo while 116 por iteración\n",
    "    while(b-a)/2 > tol: #1\n",
    "        c = (a+b)/2. #2\n",
    "        fc = f(x_zero=x_0,y_zero=y_0,x_one=x_1, y_one=c) #111\n",
    "        # Did we find the root?\n",
    "        if fc == 0:\n",
    "            print('f(c)==0')\n",
    "            break\n",
    "        elif np.sign(fa*fc) < 0: #1\n",
    "            b = c\n",
    "            fb = fc\n",
    "        else:\n",
    "            a = c\n",
    "            fa = fc\n",
    "        i += 1 #1\n",
    "        contar=contar+116\n",
    "        \n",
    "    xc = (a+b)/2. #2\n",
    "    l=[xc,contar+211] #contar+211 guarda el costo de ejecutar la función bisect\n",
    "    return l"
   ]
  },
  {
   "cell_type": "code",
   "execution_count": 56,
   "metadata": {},
   "outputs": [
    {
     "name": "stdout",
     "output_type": "stream",
     "text": [
      "[1.         1.03705111 0.5663501  0.21938727 0.08506075 0.07296832\n",
      " 0.17060099 0.33882622 0.34208164 0.17638601 0.06488125 0.03974005\n",
      " 0.07256568 0.17703267 0.23763417 0.15824942 0.06179732 0.02920625\n",
      " 0.0390578  0.10180976 0.17225301 0.14524836 0.06478809 0.02587408\n",
      " 0.02480391 0.06052521 0.12485099 0.13166223 0.07003979 0.02618504\n",
      " 0.01818786 0.03688924 0.08871675 0.11593903 0.07517165 0.02896945\n",
      " 0.01520669 0.02352875 0.06142983 0.09855319 0.07854723 0.03363383\n",
      " 0.01435311 0.01617498 0.04147276 0.08049323 0.07898811 0.03948859\n",
      " 0.01507678 0.01225183 0.02755314 0.06291665 0.07588689 0.04556985\n",
      " 0.0172066  0.01032303 0.01844802 0.04708302 0.06949607 0.05083546\n",
      " 0.02066544 0.0096869  0.0128808  0.03387003 0.06062768 0.05432132\n",
      " 0.02524324 0.01007407 0.0096824  0.0236118  0.05029672 0.05525041\n",
      " 0.03044231 0.01144177 0.00799233 0.01624891 0.03968678 0.0533396\n",
      " 0.03553683 0.01382834 0.00730008 0.01138579 0.02989862 0.04888479\n",
      " 0.03974005 0.01721443 0.00737863 0.00841423 0.02164527 0.04250672\n",
      " 0.04229627 0.02137855 0.00818895 0.00674175 0.015256   0.03504627\n",
      " 0.04267238 0.02585039 0.00978795 0.00594198]\n"
     ]
    }
   ],
   "source": [
    "def bisect_ode_solver(M_intervals=100,N_budget=1e6,tol=1e-8,intervalo=[-1000,1000]):\n",
    "    x_0=0\n",
    "    y_0=1\n",
    "    i=1\n",
    "    y = np.full(M_intervals,np.nan)\n",
    "    y[0]=y_0\n",
    "    c_total=0\n",
    "    while i < M_intervals:\n",
    "        x_i=(100*i)/M_intervals\n",
    "        if N_budget< c_total:\n",
    "            i=M_intervals\n",
    "        else:\n",
    "            y_i=bisect(f,intervalo[0],intervalo[1],tol,x_0,y_0,x_i)[0]\n",
    "            c_total=bisect(f,intervalo[0],intervalo[1],tol,x_0,y_0,x_i)[1]+c_total\n",
    "            y[i]=y_i #array que se muestra\n",
    "            x_0=x_i\n",
    "            y_0=y_i\n",
    "            i=i+1\n",
    "    return y\n",
    "print(bisect_ode_solver())\n"
   ]
  },
  {
   "cell_type": "markdown",
   "metadata": {},
   "source": [
    "### 2.2 Implementación punto fijo"
   ]
  },
  {
   "cell_type": "code",
   "execution_count": 44,
   "metadata": {},
   "outputs": [],
   "source": [
    "def fpi(g, x0, k, x_first,y_first,x_next, flag_cobweb=True):\n",
    "    x = np.empty(k+1) #1\n",
    "    x[0] = x0\n",
    "    error_i = np.inf\n",
    "    costo=0\n",
    "    for i in range(k):\n",
    "        x[i+1] = g(x_first,y_first,x_next,x[i]) #109\n",
    "        error_iminus1 = error_i\n",
    "        error_i = abs(x[i+1]-x[i]) #2\n",
    "        costo =costo+112\n",
    "    l=[x[-1],costo+3]\n",
    "    return l"
   ]
  },
  {
   "cell_type": "code",
   "execution_count": 53,
   "metadata": {},
   "outputs": [
    {
     "data": {
      "text/plain": [
       "array([1.        , 1.0370511 , 0.5663501 , 0.21938727, 0.08506076,\n",
       "       0.07296832, 0.17060101, 0.33882626, 0.34208167, 0.17638602,\n",
       "       0.06488125, 0.03974006, 0.07256569, 0.17703269, 0.23763419,\n",
       "       0.15824944, 0.06179732, 0.02920625, 0.03905779, 0.10180974,\n",
       "       0.17225297, 0.14524834, 0.06478808, 0.02587408, 0.02480391,\n",
       "       0.06052521, 0.12485099, 0.13166223, 0.07003979, 0.02618504,\n",
       "       0.01818786, 0.03688922, 0.0887167 , 0.11593898, 0.07517162,\n",
       "       0.02896944, 0.01520668, 0.02352875, 0.06142982, 0.09855317,\n",
       "       0.07854721, 0.03363382, 0.0143531 , 0.01617497, 0.04147273,\n",
       "       0.08049318, 0.07898806, 0.03948857, 0.01507677, 0.01225183,\n",
       "       0.02755312, 0.06291661, 0.07588685, 0.04556982, 0.01720658,\n",
       "       0.01032303, 0.01844801, 0.04708299, 0.06949602, 0.05083543,\n",
       "       0.02066543, 0.00968689, 0.01288078, 0.03386999, 0.06062762,\n",
       "       0.05432127, 0.02524322, 0.01007406, 0.00968239, 0.02361177,\n",
       "       0.05029667, 0.05525035, 0.03044228, 0.01144176, 0.00799231,\n",
       "       0.01624888, 0.0396867 , 0.0533395 , 0.03553676, 0.01382831,\n",
       "       0.00730006, 0.01138575, 0.02989852, 0.04888464, 0.03973993,\n",
       "       0.01721438, 0.0073786 , 0.00841421, 0.02164521, 0.04250659,\n",
       "       0.04229614,        nan,        nan,        nan,        nan,\n",
       "              nan,        nan,        nan,        nan,        nan])"
      ]
     },
     "execution_count": 53,
     "metadata": {},
     "output_type": "execute_result"
    }
   ],
   "source": [
    "def fpi_ode_solver(M_intervals=100,N_budget=1e6,tol=1e-8):\n",
    "    x_0=0\n",
    "    y_0=1\n",
    "    i=1\n",
    "    y = np.full(M_intervals,np.nan)\n",
    "    y[0]=y_0\n",
    "    c_total=0\n",
    "    while i<M_intervals:\n",
    "        x_i=(100*i)/M_intervals\n",
    "        if N_budget< c_total:\n",
    "            i=M_intervals\n",
    "        else:\n",
    "            y_i=fpi(g,1,100,x_0,y_0,x_i)[0]\n",
    "            y[i]=y_i\n",
    "            x_0=x_i\n",
    "            y_0=y_i\n",
    "            i=i+1\n",
    "            c_total=fpi(g,1,100,x_0,y_0,x_i)[1]+c_total\n",
    "    return y\n",
    "\n",
    "fpi_ode_solver()"
   ]
  },
  {
   "cell_type": "markdown",
   "metadata": {},
   "source": [
    "### 2.3 Implementación metodo de Newton"
   ]
  },
  {
   "cell_type": "code",
   "execution_count": 54,
   "metadata": {},
   "outputs": [],
   "source": [
    "def newton_method(f, fp, x0, rel_error,m,x_0, y_0,x_1):\n",
    "    #Initialization of hybrid error and absolute\n",
    "    hybrid_error = 100\n",
    "    error_i = np.inf\n",
    "    #Iteration counter\n",
    "    i = 1\n",
    "    costo=0\n",
    "    while (hybrid_error > rel_error and hybrid_error < 1e12 and i < 1e4): #costo por while 383\n",
    "        #Newton's iteration\n",
    "        x1 = x0-(m*f(x_0,y_0,x_1,x0)/fp(x_0,y_0,x_1,x0))  #219      \n",
    "        #Checking if root was found\n",
    "        if f(0,1,10,x1) == 0.0: #111\n",
    "            hybrid_error = 0.0\n",
    "            break     \n",
    "        #Computation of hybrid error\n",
    "        hybrid_error = abs(x1-x0)/np.max([abs(x1),1e-12]) #53\n",
    "        \n",
    "        #Computation of absolute error\n",
    "        error_iminus1 = error_i\n",
    "        error_i = abs(x1-x0)      \n",
    "        #Increasing counter\n",
    "        i += 1\n",
    "        #Updating solution\n",
    "        x0 = x1   \n",
    "        costo=costo+383\n",
    "    #Checking if solution was obtained\n",
    "    if hybrid_error < rel_error: \n",
    "        l=[x1,costo]\n",
    "        return l\n",
    "    elif i>=1e4:\n",
    "        print('Newton''s Method diverged. Too many iterations!!')\n",
    "        return None\n",
    "    else:\n",
    "        print('Newton''s Method diverged!')\n",
    "        return None"
   ]
  },
  {
   "cell_type": "code",
   "execution_count": 57,
   "metadata": {},
   "outputs": [
    {
     "data": {
      "text/plain": [
       "array([1.        , 1.0370511 , 0.5663501 , 0.21938727, 0.08506076,\n",
       "       0.07296832, 0.17060101, 0.33882626, 0.34208167, 0.17638602,\n",
       "       0.06488125, 0.03974006, 0.07256569, 0.17703269, 0.23763419,\n",
       "       0.15824944, 0.06179732, 0.02920625, 0.03905779, 0.10180974,\n",
       "       0.17225297, 0.14524834, 0.06478808, 0.02587408, 0.02480391,\n",
       "       0.06052521, 0.12485099, 0.13166223, 0.07003979, 0.02618504,\n",
       "       0.01818786, 0.03688922, 0.0887167 , 0.11593898, 0.07517162,\n",
       "       0.02896944, 0.01520668, 0.02352875, 0.06142982, 0.09855317,\n",
       "       0.07854721, 0.03363382, 0.0143531 , 0.01617497, 0.04147273,\n",
       "       0.08049318, 0.07898806, 0.03948857, 0.01507677, 0.01225183,\n",
       "       0.02755312, 0.06291661, 0.07588685, 0.04556982, 0.01720658,\n",
       "       0.01032303, 0.01844801, 0.04708299, 0.06949602, 0.05083543,\n",
       "       0.02066543, 0.00968689, 0.01288078, 0.03386999, 0.06062762,\n",
       "       0.05432127, 0.02524322, 0.01007406, 0.00968239, 0.02361177,\n",
       "       0.05029667, 0.05525035, 0.03044228, 0.01144176, 0.00799231,\n",
       "       0.01624888, 0.0396867 , 0.0533395 , 0.03553676, 0.01382831,\n",
       "       0.00730006, 0.01138575, 0.02989852, 0.04888464, 0.03973993,\n",
       "       0.01721438, 0.0073786 , 0.00841421, 0.02164521, 0.04250659,\n",
       "       0.04229614, 0.02137848, 0.00818892, 0.00674173, 0.01525595,\n",
       "       0.03504616, 0.04267225, 0.02585032, 0.00978791, 0.00594195])"
      ]
     },
     "execution_count": 57,
     "metadata": {},
     "output_type": "execute_result"
    }
   ],
   "source": [
    "def newton_ode_solver(M_intervals=100,N_budget=1e4,tol=1e-8):\n",
    "    x_0=0\n",
    "    y_0=1\n",
    "    i=1\n",
    "    y = np.full(M_intervals,np.nan)\n",
    "    y[0]=y_0\n",
    "    c_total=0\n",
    "    while i<M_intervals:\n",
    "        x_i=(100*i)/M_intervals\n",
    "        if N_budget< c_total:\n",
    "            i=M_intervals\n",
    "        else:\n",
    "            y_i=newton_method(f, fd,1, tol, 1, x_0 ,y_0 ,x_i)[0]\n",
    "            y[i]=y_i\n",
    "            x_0= x_i\n",
    "            y_0= y_i\n",
    "            i=i+1\n",
    "            c_total=newton_method(f, fd,1, tol, 1, x_0 ,y_0 ,x_i)[1]\n",
    "    return y\n",
    "\n",
    "newton_ode_solver()"
   ]
  },
  {
   "cell_type": "markdown",
   "metadata": {},
   "source": [
    "## 3 Visualización y Conclusiones\n"
   ]
  },
  {
   "cell_type": "code",
   "execution_count": 61,
   "metadata": {},
   "outputs": [
    {
     "data": {
      "application/vnd.jupyter.widget-view+json": {
       "model_id": "debd830c54824e9192dd1a690f4bbc70",
       "version_major": 2,
       "version_minor": 0
      },
      "text/plain": [
       "interactive(children=(IntSlider(value=100, description='M_intervals', max=100000, min=100, step=100), IntSlide…"
      ]
     },
     "metadata": {},
     "output_type": "display_data"
    },
    {
     "data": {
      "text/plain": [
       "<function __main__.plot_solutions_of_ODE(M_intervals=100, N_budget=100000.0, log_tol=-8, shift=0.1)>"
      ]
     },
     "execution_count": 61,
     "metadata": {},
     "output_type": "execute_result"
    }
   ],
   "source": [
    "def plot_solutions_of_ODE(M_intervals=100,N_budget=1e5,log_tol=-8,shift=0.1):\n",
    "    tol = 10**log_tol\n",
    "    x        = np.linspace(0,10,M_intervals)\n",
    "    y_bisec  = bisect_ode_solver(M_intervals,N_budget,tol)\n",
    "    y_fpi    = fpi_ode_solver(M_intervals,N_budget,tol)\n",
    "    y_newton = newton_ode_solver(M_intervals,N_budget,tol)\n",
    "    plt.figure(figsize=(8,8))\n",
    "    plt.plot(x,y_bisec+shift,'b-',label='Bisección: y+'+str(shift))\n",
    "    plt.plot(x,y_fpi,'m-',label='FPI: y')\n",
    "    plt.plot(x,y_newton-shift,'g-',label='Newton: y-'+str(shift),linewidth=3,alpha=0.5)\n",
    "    plt.legend(loc='upper right')\n",
    "    plt.title('Plot of solutions with shift for visualization purposes')\n",
    "    plt.grid(True)\n",
    "    plt.show()\n",
    "    \n",
    "interact(plot_solutions_of_ODE,M_intervals=(100,100000,100),N_budget=(100,1000000,100),log_tol=(-14,-1,1),shift=(-1,1,0.01))"
   ]
  },
  {
   "cell_type": "markdown",
   "metadata": {},
   "source": [
    "+ Se consige la misma función con los tres métodos\n",
    "+ El método de newton es el más eficiente que los otros 3, por otra parte punto fijo es el más ineficiente., esto se sabe mirando el gráfico y a una misma cantidad de operaciones permitidas con el método de newton se dibuja mucho más de la función"
   ]
  },
  {
   "cell_type": "markdown",
   "metadata": {},
   "source": [
    "## Anexo bonus"
   ]
  },
  {
   "cell_type": "code",
   "execution_count": null,
   "metadata": {},
   "outputs": [],
   "source": []
  },
  {
   "cell_type": "markdown",
   "metadata": {},
   "source": [
    "## Referencias\n",
    "\n",
    "[1] https://github.com/tclaudioe/Scientific-Computing/blob/master/SC1/04_roots_of_1D_equations.ipynb\n",
    "\n",
    "[2] https://es.wikipedia.org/wiki/M%C3%A9todo_de_Newton"
   ]
  },
  {
   "cell_type": "code",
   "execution_count": null,
   "metadata": {},
   "outputs": [],
   "source": []
  }
 ],
 "metadata": {
  "kernelspec": {
   "display_name": "Python 3",
   "language": "python",
   "name": "python3"
  },
  "language_info": {
   "codemirror_mode": {
    "name": "ipython",
    "version": 3
   },
   "file_extension": ".py",
   "mimetype": "text/x-python",
   "name": "python",
   "nbconvert_exporter": "python",
   "pygments_lexer": "ipython3",
   "version": "3.7.1"
  }
 },
 "nbformat": 4,
 "nbformat_minor": 2
}
