{
 "cells": [
  {
   "cell_type": "markdown",
   "metadata": {},
   "source": [
    "<img src=\"escudo_utfsm.gif\" style=\"float:right;height:100px\">\n",
    "<img src=\"IsotipoDIisocolor.png\" style=\"float:left;height:100px\">\n",
    "<center>\n",
    "    <h1> ILI285 - Computación Científica I / INF285 - Computación Científica</h1>\n",
    "    <h1> Tarea 1: Remember your roots </h1>\n",
    "    <h2> César Quiroz</h2>\n",
    "    <h2> cesar.quirozm@sansano.usm.cl</h2>\n",
    "    <h2> 201573578-6 </h2>\n",
    "</center>\n"
   ]
  },
  {
   "cell_type": "code",
   "execution_count": 1,
   "metadata": {},
   "outputs": [],
   "source": [
    "### Librerias\n",
    "\n",
    "import numpy as np\n",
    "import matplotlib.pyplot as plt\n",
    "%matplotlib inline\n",
    "from ipywidgets import interact\n",
    "import ipywidgets as widgets"
   ]
  },
  {
   "cell_type": "markdown",
   "metadata": {},
   "source": [
    "## Pregunta 1\n",
    "\n",
    "### 1.1 Método de la Bisección \n",
    "+ La función debe ser continua.\n",
    "+ Se requiere trabajar dentro de un intervalo en el recorrido de la función.\n",
    "+ Se calcula la función f(x) en los extremos y la mitad del intervalo.\n",
    "+ Se escoge el intervalo que pase por el cero y los estremos se ese intervalo pasan a ser los extremos\n",
    "+ se repite el proceso n veces hasta llegar a la raiz aproximada.\n",
    "+ La función f a utilizar es:\n",
    "\n",
    "\\begin{equation*}\n",
    " f(y_{i+1}) =  \\dfrac{x_{i+1}-x_i}{2}\\left(y_{i+1}\\cos{(x_{i+1}+y_{i+1})}+y_i\\cos{(x_i+y_i)}\\right)+ y_i - y_{i+1} = 0\n",
    "\\end{equation*}\n",
    "\n",
    "Con los siguientes valores para la primera iteración \n",
    "\n",
    "$i\\in\\{0,1,\\dots,M\\}$, $x_{i+1}=100\\frac{i}{M}$ , $x_i =0$ y $y_i=1$."
   ]
  },
  {
   "cell_type": "code",
   "execution_count": 55,
   "metadata": {},
   "outputs": [],
   "source": [
    "def f(x_zero,y_zero,x_one,y_one):\n",
    "    part_one = (x_one - x_zero)/2\n",
    "    part_two = y_one*np.cos(x_one+y_one)+y_zero*np.cos(x_zero+y_zero)\n",
    "    part_three = y_one-y_zero\n",
    "    return(part_one*part_two-part_three)"
   ]
  },
  {
   "cell_type": "markdown",
   "metadata": {},
   "source": [
    "### 1.2 Método de iteración de punto fijo\n",
    "+ se utiliza para encontrar valores de f(x) donde se cumple que:\n",
    "\n",
    "\n",
    "\\begin{equation*}\n",
    " g(y_{i+1}) =  \\dfrac{x_{i+1}-x_i}{2}\\left(y_{i+1}\\cos{(x_{i+1}+y_{i+1})}+y_i\\cos{(x_i+y_i)}\\right)+ y_i =  y_{i+1}\n",
    "\\end{equation*}\n",
    "\n",
    "Con los siguientes valores para la primera iteración \n",
    "\n",
    "$i\\in\\{0,1,\\dots,M\\}$, $x_{i+1}=100\\frac{i}{M}$ , $x_i =0$ y $y_i=1$."
   ]
  },
  {
   "cell_type": "code",
   "execution_count": 113,
   "metadata": {},
   "outputs": [],
   "source": [
    "def g(x_zero,y_zero,x_one,y_one):\n",
    "    part_one = (x_one - x_zero)/2\n",
    "    part_two = y_one*np.cos(x_one+y_one)+y_zero*np.cos(x_zero+y_zero)\n",
    "    return(part_one*part_two+y_zero)"
   ]
  },
  {
   "cell_type": "markdown",
   "metadata": {},
   "source": [
    "### 1.3 Método de Newton\n",
    "\n",
    "\\begin{equation*}\n",
    "x_{i+1}=x_{i}\\cdot \\frac{f(x_{i})}{f'(x_{i})}\n",
    "\\end{equation*}\n",
    "\n",
    "\n",
    "\\begin{equation*}\n",
    "f(x_i) =f(y_{i+1}) =  \\dfrac{x_{i+1}-x_i}{2}\\left(y_{i+1}\\cos{(x_{i+1}+y_{i+1})}+y_i\\cos{(x_i+y_i)}\\right)+ y_i - y_{i+1}\n",
    "\\end{equation*}\n",
    "\n",
    "\n",
    "\\begin{equation*}\n",
    "f´(x_i) =f´(y_{i+1}) =  \\dfrac{x_{i+1}-x_i}{2}\\left(\\cos{(x_{i+1}+y_{i+1})}-y_{i+1}\\sin{(x_{i+1}+y_{i+1})}\\right) -1\n",
    "\\end{equation*}\n",
    "\n",
    "Con los siguientes valores para la primera iteración \n",
    "\n",
    "$i\\in\\{0,1,\\dots,M\\}$, $x_{i+1}=100\\frac{i}{M}$ , $x_i=0$ y $y_i=1$."
   ]
  },
  {
   "cell_type": "code",
   "execution_count": 114,
   "metadata": {},
   "outputs": [],
   "source": [
    "def fd(x_zero,y_zero,x_one,y_one):\n",
    "    part_one = (x_one - x_zero)/2\n",
    "    part_two = np.cos(x_one+y_one)-(y_one*np.sin(x_one+y_one))\n",
    "    return((part_one*part_two)-1)\n",
    "    "
   ]
  },
  {
   "cell_type": "markdown",
   "metadata": {},
   "source": [
    "## Pregunta 2\n",
    "\n",
    "### 2.1 Implementación método bisección"
   ]
  },
  {
   "cell_type": "code",
   "execution_count": 158,
   "metadata": {},
   "outputs": [],
   "source": [
    "def bisect(f, a, b, tol,x_0,y_0,x_1):\n",
    "    fa = f(x_zero=x_0,y_zero=y_0,x_one=x_1,y_one=a)\n",
    "    fb = f(x_zero=x_0,y_zero=y_0,x_one=x_1,y_one=b)\n",
    "    i = 0\n",
    "    # Just checking if the sign is not negative => not root  necessarily \n",
    "    if np.sign(fa*fb) >= 0:\n",
    "        print('f(a)f(b)<0 not satisfied!')\n",
    "        return None    \n",
    "    while(b-a)/2 > tol:\n",
    "        c = (a+b)/2.\n",
    "        fc = f(x_zero=x_0,y_zero=y_0,x_one=x_1, y_one=c)\n",
    "        # Did we find the root?\n",
    "        if fc == 0:\n",
    "            print('f(c)==0')\n",
    "            break\n",
    "        elif np.sign(fa*fc) < 0:\n",
    "            b = c\n",
    "            fb = fc\n",
    "        else:\n",
    "            a = c\n",
    "            fa = fc\n",
    "        i += 1\n",
    "        \n",
    "    xc = (a+b)/2.\n",
    "    return xc"
   ]
  },
  {
   "cell_type": "code",
   "execution_count": 159,
   "metadata": {},
   "outputs": [
    {
     "name": "stdout",
     "output_type": "stream",
     "text": [
      "[1.         1.03705111 0.5663501  0.21938727 0.08506075 0.07296832\n",
      " 0.17060099 0.33882622 0.34208164 0.17638601 0.06488125 0.03974005\n",
      " 0.07256568 0.17703267 0.23763417 0.15824942 0.06179732 0.02920625\n",
      " 0.0390578  0.10180976 0.17225301 0.14524836 0.06478809 0.02587408\n",
      " 0.02480391 0.06052521 0.12485099 0.13166223 0.07003979 0.02618504\n",
      " 0.01818786 0.03688924 0.08871675 0.11593903 0.07517165 0.02896945\n",
      " 0.01520669 0.02352875 0.06142983 0.09855319 0.07854723 0.03363383\n",
      " 0.01435311 0.01617498 0.04147276 0.08049323 0.07898811 0.03948859\n",
      " 0.01507678 0.01225183 0.02755314 0.06291665 0.07588689 0.04556985\n",
      " 0.0172066  0.01032303 0.01844802 0.04708302 0.06949607 0.05083546\n",
      " 0.02066544 0.0096869  0.0128808  0.03387003 0.06062768 0.05432132\n",
      " 0.02524324 0.01007407 0.0096824  0.0236118  0.05029672 0.05525041\n",
      " 0.03044231 0.01144177 0.00799233 0.01624891 0.03968678 0.0533396\n",
      " 0.03553683 0.01382834 0.00730008 0.01138579 0.02989862 0.04888479\n",
      " 0.03974005 0.01721443 0.00737863 0.00841423 0.02164527 0.04250672\n",
      " 0.04229627 0.02137855 0.00818895 0.00674175 0.015256   0.03504627\n",
      " 0.04267238 0.02585039 0.00978795 0.00594198]\n"
     ]
    }
   ],
   "source": [
    "def bisect_ode_solver(M_intervals=100,N_budget=1e4,tol=1e-8,intervalo=[-1000,1000]):\n",
    "    x_0=0\n",
    "    y_0=1\n",
    "    i=1\n",
    "    y = np.full(M_intervals,np.nan)\n",
    "    y[0]=y_0\n",
    "    while i < M_intervals:\n",
    "        x_i=(100*i)/M_intervals\n",
    "        y_i=bisect(f,intervalo[0],intervalo[1],tol,x_0,y_0,x_i)\n",
    "        y[i]=y_i #array que se muestra\n",
    "        x_0=x_i\n",
    "        y_0=y_i\n",
    "        i=i+1\n",
    "    return y\n",
    "print(bisect_ode_solver())\n"
   ]
  },
  {
   "cell_type": "markdown",
   "metadata": {},
   "source": [
    "### 2.2 Implementación punto fijo"
   ]
  },
  {
   "cell_type": "code",
   "execution_count": 160,
   "metadata": {},
   "outputs": [],
   "source": [
    "def fpi(g, x0, k, x_first,y_first,x_next, flag_cobweb=True):\n",
    "    x = np.empty(k+1)\n",
    "    x[0] = x0\n",
    "    error_i = np.inf\n",
    "    for i in range(k):\n",
    "        x[i+1] = g(x_first,y_first,x_next,x[i])\n",
    "        error_iminus1 = error_i\n",
    "        error_i = abs(x[i+1]-x[i])\n",
    "    return x[-1]"
   ]
  },
  {
   "cell_type": "code",
   "execution_count": null,
   "metadata": {},
   "outputs": [],
   "source": [
    "def fpi_ode_solver(M_intervals=100,N_budget=1e4,tol=1e-8):\n",
    "    x_0=0\n",
    "    y_0=1\n",
    "    i=1\n",
    "    y = np.full(M_intervals,np.nan)\n",
    "    y[0]=y_0\n",
    "    while i<M_intervals:\n",
    "        x_i=(100*i)/M_intervals\n",
    "        y_i=fpi(g,1,100,x_0,y_0,x_i)\n",
    "        y[i]=y_i\n",
    "        x_0=x_i\n",
    "        y_0=y_i\n",
    "        i=i+1\n",
    "    return y\n",
    "\n",
    "fpi_ode_solver()"
   ]
  },
  {
   "cell_type": "markdown",
   "metadata": {},
   "source": [
    "### 2.3 Implementación metodo de Newton"
   ]
  },
  {
   "cell_type": "code",
   "execution_count": 133,
   "metadata": {},
   "outputs": [],
   "source": [
    "def newton_method(f, fp, x0, rel_error,m,x_0, y_0,x_1):\n",
    "    #Initialization of hybrid error and absolute\n",
    "    hybrid_error = 100\n",
    "    error_i = np.inf\n",
    "    \n",
    "    #print('i |     x(i)     |     x(i+1)   |      |x(i+1)-x(i)|     |  e_i/e_{i-1} | e_i/e_{i-1}^2')\n",
    "    #print('----------------------------------------------------------------------------------------')\n",
    "    \n",
    "    #Iteration counter\n",
    "    i = 1\n",
    "    while (hybrid_error > rel_error and hybrid_error < 1e12 and i < 1e4):\n",
    "        #Newton's iteration\n",
    "        x1 = x0-(m*f(x_0,y_0,x_1,x0)/fp(x_0,y_0,x_1,x0))\n",
    "        \n",
    "        #Checking if root was found\n",
    "        if f(0,1,10,x1) == 0.0:\n",
    "            hybrid_error = 0.0\n",
    "            break\n",
    "        \n",
    "        #Computation of hybrid error\n",
    "        hybrid_error = abs(x1-x0)/np.max([abs(x1),1e-12])\n",
    "        \n",
    "        #Computation of absolute error\n",
    "        error_iminus1 = error_i\n",
    "        error_i = abs(x1-x0)\n",
    "        \n",
    "        #Increasing counter\n",
    "        i += 1\n",
    "        \n",
    "        #Showing some info\n",
    "        #print(\"%d | %.10f | %.10f | %.20f | %.10f | %.10f\" % \n",
    "         #     (i, x0, x1, error_i, error_i/error_iminus1, error_i/(error_iminus1**2)))\n",
    "        #Updating solution\n",
    "        x0 = x1\n",
    "    \n",
    "    #Checking if solution was obtained\n",
    "    if hybrid_error < rel_error: \n",
    "        return x1\n",
    "    elif i>=1e4:\n",
    "        print('Newton''s Method diverged. Too many iterations!!')\n",
    "        return None\n",
    "    else:\n",
    "        print('Newton''s Method diverged!')\n",
    "        return None\n",
    "    \n",
    "#newton_method(f, fd, 1, rel_error=1e-8, m=1)"
   ]
  },
  {
   "cell_type": "code",
   "execution_count": 142,
   "metadata": {},
   "outputs": [
    {
     "name": "stdout",
     "output_type": "stream",
     "text": [
      "Newtons Method diverged. Too many iterations!!\n"
     ]
    },
    {
     "ename": "TypeError",
     "evalue": "unsupported operand type(s) for +: 'float' and 'NoneType'",
     "output_type": "error",
     "traceback": [
      "\u001b[1;31m---------------------------------------------------------------------------\u001b[0m",
      "\u001b[1;31mTypeError\u001b[0m                                 Traceback (most recent call last)",
      "\u001b[1;32m<ipython-input-142-aac81dc8da7c>\u001b[0m in \u001b[0;36m<module>\u001b[1;34m\u001b[0m\n\u001b[0;32m     15\u001b[0m \u001b[1;33m\u001b[0m\u001b[0m\n\u001b[0;32m     16\u001b[0m \u001b[1;33m\u001b[0m\u001b[0m\n\u001b[1;32m---> 17\u001b[1;33m \u001b[0mnewton_ode_solver\u001b[0m\u001b[1;33m(\u001b[0m\u001b[1;33m)\u001b[0m\u001b[1;33m\u001b[0m\u001b[1;33m\u001b[0m\u001b[0m\n\u001b[0m",
      "\u001b[1;32m<ipython-input-142-aac81dc8da7c>\u001b[0m in \u001b[0;36mnewton_ode_solver\u001b[1;34m(M_intervals, N_budget, tol)\u001b[0m\n\u001b[0;32m      7\u001b[0m     \u001b[1;32mwhile\u001b[0m \u001b[0mi\u001b[0m\u001b[1;33m<\u001b[0m\u001b[0mM_intervals\u001b[0m\u001b[1;33m:\u001b[0m\u001b[1;33m\u001b[0m\u001b[1;33m\u001b[0m\u001b[0m\n\u001b[0;32m      8\u001b[0m         \u001b[0mx_i\u001b[0m\u001b[1;33m=\u001b[0m\u001b[1;33m(\u001b[0m\u001b[1;36m100\u001b[0m\u001b[1;33m*\u001b[0m\u001b[0mi\u001b[0m\u001b[1;33m)\u001b[0m\u001b[1;33m/\u001b[0m\u001b[0mM_intervals\u001b[0m\u001b[1;33m\u001b[0m\u001b[1;33m\u001b[0m\u001b[0m\n\u001b[1;32m----> 9\u001b[1;33m         \u001b[0my_i\u001b[0m\u001b[1;33m=\u001b[0m\u001b[0mnewton_method\u001b[0m\u001b[1;33m(\u001b[0m\u001b[0mf\u001b[0m\u001b[1;33m,\u001b[0m \u001b[0mfd\u001b[0m\u001b[1;33m,\u001b[0m\u001b[1;36m1\u001b[0m\u001b[1;33m,\u001b[0m \u001b[0mtol\u001b[0m\u001b[1;33m,\u001b[0m \u001b[1;36m100\u001b[0m\u001b[1;33m,\u001b[0m \u001b[0mx_0\u001b[0m \u001b[1;33m,\u001b[0m\u001b[0my_0\u001b[0m \u001b[1;33m,\u001b[0m\u001b[0mx_i\u001b[0m\u001b[1;33m)\u001b[0m\u001b[1;33m\u001b[0m\u001b[1;33m\u001b[0m\u001b[0m\n\u001b[0m\u001b[0;32m     10\u001b[0m         \u001b[0my\u001b[0m\u001b[1;33m[\u001b[0m\u001b[0mi\u001b[0m\u001b[1;33m]\u001b[0m\u001b[1;33m=\u001b[0m\u001b[1;33m[\u001b[0m\u001b[0mx_i\u001b[0m\u001b[1;33m,\u001b[0m\u001b[0my_i\u001b[0m\u001b[1;33m]\u001b[0m\u001b[1;33m\u001b[0m\u001b[1;33m\u001b[0m\u001b[0m\n\u001b[0;32m     11\u001b[0m         \u001b[0mx_0\u001b[0m\u001b[1;33m=\u001b[0m \u001b[0mx_i\u001b[0m\u001b[1;33m\u001b[0m\u001b[1;33m\u001b[0m\u001b[0m\n",
      "\u001b[1;32m<ipython-input-133-f3f750be41fa>\u001b[0m in \u001b[0;36mnewton_method\u001b[1;34m(f, fp, x0, rel_error, m, x_0, y_0, x_1)\u001b[0m\n\u001b[0;32m     11\u001b[0m     \u001b[1;32mwhile\u001b[0m \u001b[1;33m(\u001b[0m\u001b[0mhybrid_error\u001b[0m \u001b[1;33m>\u001b[0m \u001b[0mrel_error\u001b[0m \u001b[1;32mand\u001b[0m \u001b[0mhybrid_error\u001b[0m \u001b[1;33m<\u001b[0m \u001b[1;36m1e12\u001b[0m \u001b[1;32mand\u001b[0m \u001b[0mi\u001b[0m \u001b[1;33m<\u001b[0m \u001b[1;36m1e4\u001b[0m\u001b[1;33m)\u001b[0m\u001b[1;33m:\u001b[0m\u001b[1;33m\u001b[0m\u001b[1;33m\u001b[0m\u001b[0m\n\u001b[0;32m     12\u001b[0m         \u001b[1;31m#Newton's iteration\u001b[0m\u001b[1;33m\u001b[0m\u001b[1;33m\u001b[0m\u001b[1;33m\u001b[0m\u001b[0m\n\u001b[1;32m---> 13\u001b[1;33m         \u001b[0mx1\u001b[0m \u001b[1;33m=\u001b[0m \u001b[0mx0\u001b[0m\u001b[1;33m-\u001b[0m\u001b[1;33m(\u001b[0m\u001b[0mm\u001b[0m\u001b[1;33m*\u001b[0m\u001b[0mf\u001b[0m\u001b[1;33m(\u001b[0m\u001b[0mx_0\u001b[0m\u001b[1;33m,\u001b[0m\u001b[0my_0\u001b[0m\u001b[1;33m,\u001b[0m\u001b[0mx_1\u001b[0m\u001b[1;33m,\u001b[0m\u001b[0mx0\u001b[0m\u001b[1;33m)\u001b[0m\u001b[1;33m/\u001b[0m\u001b[0mfp\u001b[0m\u001b[1;33m(\u001b[0m\u001b[0mx_0\u001b[0m\u001b[1;33m,\u001b[0m\u001b[0my_0\u001b[0m\u001b[1;33m,\u001b[0m\u001b[0mx_1\u001b[0m\u001b[1;33m,\u001b[0m\u001b[0mx0\u001b[0m\u001b[1;33m)\u001b[0m\u001b[1;33m)\u001b[0m\u001b[1;33m\u001b[0m\u001b[1;33m\u001b[0m\u001b[0m\n\u001b[0m\u001b[0;32m     14\u001b[0m \u001b[1;33m\u001b[0m\u001b[0m\n\u001b[0;32m     15\u001b[0m         \u001b[1;31m#Checking if root was found\u001b[0m\u001b[1;33m\u001b[0m\u001b[1;33m\u001b[0m\u001b[1;33m\u001b[0m\u001b[0m\n",
      "\u001b[1;32m<ipython-input-55-7d1a7c3bb09c>\u001b[0m in \u001b[0;36mf\u001b[1;34m(x_zero, y_zero, x_one, y_one)\u001b[0m\n\u001b[0;32m      1\u001b[0m \u001b[1;32mdef\u001b[0m \u001b[0mf\u001b[0m\u001b[1;33m(\u001b[0m\u001b[0mx_zero\u001b[0m\u001b[1;33m,\u001b[0m\u001b[0my_zero\u001b[0m\u001b[1;33m,\u001b[0m\u001b[0mx_one\u001b[0m\u001b[1;33m,\u001b[0m\u001b[0my_one\u001b[0m\u001b[1;33m)\u001b[0m\u001b[1;33m:\u001b[0m\u001b[1;33m\u001b[0m\u001b[1;33m\u001b[0m\u001b[0m\n\u001b[0;32m      2\u001b[0m     \u001b[0mpart_one\u001b[0m \u001b[1;33m=\u001b[0m \u001b[1;33m(\u001b[0m\u001b[0mx_one\u001b[0m \u001b[1;33m-\u001b[0m \u001b[0mx_zero\u001b[0m\u001b[1;33m)\u001b[0m\u001b[1;33m/\u001b[0m\u001b[1;36m2\u001b[0m\u001b[1;33m\u001b[0m\u001b[1;33m\u001b[0m\u001b[0m\n\u001b[1;32m----> 3\u001b[1;33m     \u001b[0mpart_two\u001b[0m \u001b[1;33m=\u001b[0m \u001b[0my_one\u001b[0m\u001b[1;33m*\u001b[0m\u001b[0mnp\u001b[0m\u001b[1;33m.\u001b[0m\u001b[0mcos\u001b[0m\u001b[1;33m(\u001b[0m\u001b[0mx_one\u001b[0m\u001b[1;33m+\u001b[0m\u001b[0my_one\u001b[0m\u001b[1;33m)\u001b[0m\u001b[1;33m+\u001b[0m\u001b[0my_zero\u001b[0m\u001b[1;33m*\u001b[0m\u001b[0mnp\u001b[0m\u001b[1;33m.\u001b[0m\u001b[0mcos\u001b[0m\u001b[1;33m(\u001b[0m\u001b[0mx_zero\u001b[0m\u001b[1;33m+\u001b[0m\u001b[0my_zero\u001b[0m\u001b[1;33m)\u001b[0m\u001b[1;33m\u001b[0m\u001b[1;33m\u001b[0m\u001b[0m\n\u001b[0m\u001b[0;32m      4\u001b[0m     \u001b[0mpart_three\u001b[0m \u001b[1;33m=\u001b[0m \u001b[0my_one\u001b[0m\u001b[1;33m-\u001b[0m\u001b[0my_zero\u001b[0m\u001b[1;33m\u001b[0m\u001b[1;33m\u001b[0m\u001b[0m\n\u001b[0;32m      5\u001b[0m     \u001b[1;32mreturn\u001b[0m\u001b[1;33m(\u001b[0m\u001b[0mpart_one\u001b[0m\u001b[1;33m*\u001b[0m\u001b[0mpart_two\u001b[0m\u001b[1;33m-\u001b[0m\u001b[0mpart_three\u001b[0m\u001b[1;33m)\u001b[0m\u001b[1;33m\u001b[0m\u001b[1;33m\u001b[0m\u001b[0m\n",
      "\u001b[1;31mTypeError\u001b[0m: unsupported operand type(s) for +: 'float' and 'NoneType'"
     ]
    }
   ],
   "source": [
    "def newton_ode_solver(M_intervals=100,N_budget=1e4,tol=1e-8):\n",
    "    x_0=0\n",
    "    y_0=1\n",
    "    i=1\n",
    "    y = np.full((M_intervals,2),np.nan)\n",
    "    y[0]=[x_0,y_0]\n",
    "    while i<M_intervals:\n",
    "        x_i=(100*i)/M_intervals\n",
    "        y_i=newton_method(f, fd,1, tol, 100, x_0 ,y_0 ,x_i)\n",
    "        y[i]=[x_i,y_i]\n",
    "        x_0= x_i\n",
    "        y_0= y_i\n",
    "        i=i+1\n",
    "    return y\n",
    "\n",
    "\n",
    "newton_ode_solver()"
   ]
  },
  {
   "cell_type": "markdown",
   "metadata": {},
   "source": [
    "## 3 Visualización y Conclusiones\n",
    "\n",
    "### 3.1 Cobwed"
   ]
  },
  {
   "cell_type": "code",
   "execution_count": null,
   "metadata": {},
   "outputs": [],
   "source": [
    "def plot_solutions_of_ODE(M_intervals=100,N_budget=1e4,log_tol=-8,shift=0.1):\n",
    "    tol = 10**log_tol\n",
    "    x        = np.linspace(0,10,M_intervals)\n",
    "    y_bisec  = bisect_ode_solver(M_intervals,N_budget,tol)\n",
    "    y_fpi    = fpi_ode_solver(M_intervals,N_budget,tol)\n",
    "    #y_newton = newton_ode_solver(M_intervals,N_budget,tol)\n",
    "    plt.figure(figsize=(8,8))\n",
    "    plt.plot(x,y_bisec+shift,'b-',label='Bisección: y+'+str(shift))\n",
    "    plt.plot(x,y_fpi,'m-',label='FPI: y')\n",
    "    #plt.plot(x,y_newton-shift,'g-',label='Newton: y-'+str(shift),linewidth=3,alpha=0.5)\n",
    "    #lt.legend(loc='best')\n",
    "    plt.title('Plot of solutions with shift for visualization purposes')\n",
    "    plt.grid(True)\n",
    "    plt.show()\n",
    "    \n",
    "interact(plot_solutions_of_ODE,M_intervals=(100,100000,100),N_budget=(100,1000000,100),log_tol=(-14,-1,1),shift=(-1,1,0.01))"
   ]
  },
  {
   "cell_type": "code",
   "execution_count": null,
   "metadata": {},
   "outputs": [],
   "source": []
  },
  {
   "cell_type": "markdown",
   "metadata": {},
   "source": [
    "## Anexo bonus"
   ]
  },
  {
   "cell_type": "code",
   "execution_count": null,
   "metadata": {},
   "outputs": [],
   "source": []
  },
  {
   "cell_type": "markdown",
   "metadata": {},
   "source": [
    "## Referencias\n",
    "\n",
    "[1] https://github.com/tclaudioe/Scientific-Computing/blob/master/SC1/04_roots_of_1D_equations.ipynb\n",
    "\n",
    "[2] https://es.wikipedia.org/wiki/M%C3%A9todo_de_Newton"
   ]
  },
  {
   "cell_type": "code",
   "execution_count": null,
   "metadata": {},
   "outputs": [],
   "source": []
  }
 ],
 "metadata": {
  "kernelspec": {
   "display_name": "Python 3",
   "language": "python",
   "name": "python3"
  },
  "language_info": {
   "codemirror_mode": {
    "name": "ipython",
    "version": 3
   },
   "file_extension": ".py",
   "mimetype": "text/x-python",
   "name": "python",
   "nbconvert_exporter": "python",
   "pygments_lexer": "ipython3",
   "version": "3.7.1"
  }
 },
 "nbformat": 4,
 "nbformat_minor": 2
}
